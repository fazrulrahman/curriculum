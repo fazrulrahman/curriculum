{
 "cells": [
  {
   "cell_type": "code",
   "execution_count": 67,
   "metadata": {},
   "outputs": [
    {
     "name": "stdout",
     "output_type": "stream",
     "text": [
      "<type 'str'>\n"
     ]
    }
   ],
   "source": [
    "import pandas as pd\n",
    "\n",
    "file = open('machine.data.txt','r')\n",
    "data = (file.read())\n",
    "\n",
    "print(type(data))\n",
    "data = data.splitlines()\n",
    "\n",
    "X = []\n",
    "\n",
    "for each in data:\n",
    "    X.append([x.strip() for x in each.split(',')])\n",
    "    \n",
    "# X = X[:][2:]\n",
    "# for each in data.lines():\n",
    "#     print(each)\n",
    "#     print(\"hello\")"
   ]
  },
  {
   "cell_type": "code",
   "execution_count": 68,
   "metadata": {},
   "outputs": [
    {
     "data": {
      "text/plain": [
       "['29', '8000', '32000', '32', '8', '32', '220', '253']"
      ]
     },
     "execution_count": 68,
     "metadata": {},
     "output_type": "execute_result"
    }
   ],
   "source": [
    "X[:][2][2:]"
   ]
  },
  {
   "cell_type": "code",
   "execution_count": 69,
   "metadata": {},
   "outputs": [],
   "source": [
    "inputdata = []\n",
    "output = []\n",
    "for every in X:\n",
    "    inputdata.append(every[:][2:-1])\n",
    "    output.append(every[:][-1])"
   ]
  },
  {
   "cell_type": "code",
   "execution_count": 70,
   "metadata": {},
   "outputs": [],
   "source": [
    "import numpy as np\n",
    "inputdata = np.asarray(inputdata)\n",
    "output = np.asarray(output)"
   ]
  },
  {
   "cell_type": "code",
   "execution_count": 132,
   "metadata": {},
   "outputs": [],
   "source": [
    "m = len(output)\n",
    "# x0 = np.ones(m)\n",
    "B = np.zeros(8)\n",
    "alpha = 0.01\n",
    "iteration = 2\n",
    "X = np.ones((209,8))\n",
    "X[:,1:] = inputdata\n",
    "\n",
    "# a = np.random.rand(N,N)\n",
    "# b = np.zeros((N,N+1))\n",
    "# b[:,:-1] = a"
   ]
  },
  {
   "cell_type": "code",
   "execution_count": 133,
   "metadata": {},
   "outputs": [],
   "source": [
    "def gradient_descent(X,output,B,alpha,iteration):\n",
    "    for i in range(iteration):\n",
    "        hyp = X.dot(B)\n",
    "\n",
    "        output[output == ''] = 0.0\n",
    "        output = output.astype(np.float)\n",
    "\n",
    "        loss = hyp - (output)\n",
    "\n",
    "        gradient = X.T.dot(loss) / m\n",
    "\n",
    "        B = B - (alpha * gradient)\n",
    "    return(B)"
   ]
  },
  {
   "cell_type": "code",
   "execution_count": 134,
   "metadata": {},
   "outputs": [
    {
     "name": "stdout",
     "output_type": "stream",
     "text": [
      "(209, 8)\n",
      "(8,)\n"
     ]
    }
   ],
   "source": [
    "print(X.shape)\n",
    "print(B.shape)"
   ]
  },
  {
   "cell_type": "code",
   "execution_count": 135,
   "metadata": {},
   "outputs": [
    {
     "name": "stderr",
     "output_type": "stream",
     "text": [
      "/Library/Frameworks/Python.framework/Versions/2.7/lib/python2.7/site-packages/ipykernel_launcher.py:5: FutureWarning: elementwise comparison failed; returning scalar instead, but in the future will perform elementwise comparison\n",
      "  \"\"\"\n"
     ]
    }
   ],
   "source": [
    "B = gradient_descent(X,output,B,alpha,iteration)"
   ]
  },
  {
   "cell_type": "code",
   "execution_count": 136,
   "metadata": {},
   "outputs": [
    {
     "data": {
      "text/plain": [
       "array([-3.52480625e+06, -3.70457231e+08, -2.08771066e+10, -8.25518275e+10,\n",
       "       -1.66761396e+08, -3.00990857e+07, -1.11253278e+08, -8.64041728e+08])"
      ]
     },
     "execution_count": 136,
     "metadata": {},
     "output_type": "execute_result"
    }
   ],
   "source": [
    "B"
   ]
  },
  {
   "cell_type": "markdown",
   "metadata": {},
   "source": [
    "###"
   ]
  }
 ],
 "metadata": {
  "kernelspec": {
   "display_name": "Python 3",
   "language": "python",
   "name": "python3"
  },
  "language_info": {
   "codemirror_mode": {
    "name": "ipython",
    "version": 2
   },
   "file_extension": ".py",
   "mimetype": "text/x-python",
   "name": "python",
   "nbconvert_exporter": "python",
   "pygments_lexer": "ipython2",
   "version": "2.7.14"
  }
 },
 "nbformat": 4,
 "nbformat_minor": 2
}
